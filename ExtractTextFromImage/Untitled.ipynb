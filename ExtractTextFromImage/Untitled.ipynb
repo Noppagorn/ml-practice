{
 "cells": [
  {
   "cell_type": "code",
   "execution_count": 49,
   "id": "ea5e389a",
   "metadata": {},
   "outputs": [],
   "source": [
    "from pytesseract import pytesseract\n",
    "from PIL import Image\n",
    "import os"
   ]
  },
  {
   "cell_type": "code",
   "execution_count": 50,
   "id": "3c78403f",
   "metadata": {},
   "outputs": [],
   "source": [
    "#Define path to tessaract.exe\n",
    "path_to_tesseract = r'C:\\Program Files\\Tesseract-OCR\\tesseract.exe'"
   ]
  },
  {
   "cell_type": "code",
   "execution_count": 51,
   "id": "00a49a70",
   "metadata": {},
   "outputs": [],
   "source": [
    "#Define path to image\n",
    "path_to_images = r'images/RealImages/'"
   ]
  },
  {
   "cell_type": "code",
   "execution_count": 52,
   "id": "6cb9151d",
   "metadata": {},
   "outputs": [],
   "source": [
    "#Point tessaract_cmd to tessaract.exe\n",
    "pytesseract.tesseract_cmd = path_to_tesseract"
   ]
  },
  {
   "cell_type": "code",
   "execution_count": 53,
   "id": "338b1ec2",
   "metadata": {},
   "outputs": [],
   "source": [
    "#opne image with PIL\n",
    "# img = Image.open(path_to_image)"
   ]
  },
  {
   "cell_type": "code",
   "execution_count": 54,
   "id": "1a3eb124",
   "metadata": {},
   "outputs": [],
   "source": [
    "#Extract text from image\n",
    "# text = pytesseract.image_to_string(img)"
   ]
  },
  {
   "cell_type": "code",
   "execution_count": 55,
   "id": "3caf03bb",
   "metadata": {},
   "outputs": [
    {
     "name": "stdout",
     "output_type": "stream",
     "text": [
      "142% |0: 0105564038966\n",
      "ไธ!! 092-665-6664\n",
      "! ท บ อ ๐16 ๐ 6\n",
      "เม ่ ท ธ : @ ท ส ผู อ เม พ ส อ ง เล ส 1\n",
      "\n",
      "ไอ ๒ | อ : โซ ฟา\n",
      "\n",
      "5 เล ท หี! ซะ เก ๊ า เย า ว ร า ซ ช\n",
      "\n",
      "9 น อ 5 ร 19: 6\n",
      "\n",
      "ว ิ ล ไอ: 07/01/23 ไ ไ ท ท 6: 20:45\n",
      "ก ุ ้ ง แก ้ ว\n",
      "\n",
      "พ ร ุ น ย ํ า ง า\n",
      "\n",
      "ห ม ู ต ุ ๋ น ฮ่ อ ง เต ้\n",
      "\n",
      "ห ย ิ ต ฉ่ า\n",
      "\n",
      "เป า ล า ว า ไซ ่ เต ็ ม\n",
      "\n",
      "ฮะ เก ๋ า\n",
      "\n",
      "1\n",
      "1\n",
      "ป\n",
      "1\n",
      "1\n",
      "2\n",
      "1\n",
      "2\n",
      "\n",
      ": 80:\n",
      "\n",
      "\n",
      "--------------------\n",
      "เล ข ป ร ะ จ ํ า ต ั ว ฝ ผู้ เส ี ย ภา ษี อ า ก ร : 0105565114283\n",
      "พ ิ อ ผู !51 ๓ ' ง ๐\n",
      "\n",
      "บ ิ ล\n",
      "\n",
      "(0 เฮอ ท 79 ท 6 - 29\n",
      "\n",
      "ท น ท ี ร ้ า น\n",
      "ซื อ พ น ั ก ง า น\n",
      "\n",
      "เว ล า เข ้ า :\n",
      "เว ล า ท ี ่ พ ิ ม พ ์ :\n",
      "\n",
      "ค็\n",
      "\n",
      "21-01-2566 19\n",
      "\n",
      "ส ิ น ค ้ า\n",
      "\n",
      "7 ห / เ 2 ส แต ่ 06! พ ั น ร /! ไ (5 ท า ล |)\n",
      "2: เ ห่ ๐ ธ ฎ ู ส ส เนี่ ธ อ ท พ ิ 0 ร ส 6 ่ (เล เย ู อ)\n",
      "!/! ท น ไธ !/ ไ ส เฉ ่ 580! ส ร ท\n",
      "\n",
      "(0 น ธร ไว ทา 6 ๐0 ๐ ไล |\n",
      "\n",
      "โธ ศ ุ น [ส (โธ ศุน!! ส ธิ น ท ท ่ รอ)\n",
      "\n",
      "8995.10\n",
      "\n",
      "โส 9 อ 80 ๐ ๐ แ 0 : ! ห ศั น ๐ ท 8 เธ พ\n",
      "2 อ พล เซอ ย่ อ ง 0 ๐ ท ล\n",
      "\n",
      "\n",
      "--------------------\n"
     ]
    }
   ],
   "source": [
    "for root, dirs, file_name in os.walk(path_to_images):\n",
    "    for filename in file_name:\n",
    "        img = Image.open(path_to_images + filename)\n",
    "        text = pytesseract.image_to_string(img, lang=\"tha\")\n",
    "        print(text)\n",
    "        print(\"--------------------\")"
   ]
  },
  {
   "cell_type": "code",
   "execution_count": null,
   "id": "c1dfd4de",
   "metadata": {},
   "outputs": [],
   "source": []
  }
 ],
 "metadata": {
  "kernelspec": {
   "display_name": "Python 3 (ipykernel)",
   "language": "python",
   "name": "python3"
  },
  "language_info": {
   "codemirror_mode": {
    "name": "ipython",
    "version": 3
   },
   "file_extension": ".py",
   "mimetype": "text/x-python",
   "name": "python",
   "nbconvert_exporter": "python",
   "pygments_lexer": "ipython3",
   "version": "3.9.12"
  }
 },
 "nbformat": 4,
 "nbformat_minor": 5
}
