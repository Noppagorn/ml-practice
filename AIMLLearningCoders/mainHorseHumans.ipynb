{
 "cells": [
  {
   "cell_type": "markdown",
   "id": "e7fa65cb",
   "metadata": {},
   "source": [
    "## DOC\n",
    "https://towardsdatascience.com/convolutional-neural-networks-model-from-scratch-for-object-detection-820893610919\n",
    "https://www.techtarget.com/searchenterpriseai/definition/convolutional-neural-network"
   ]
  },
  {
   "cell_type": "code",
   "execution_count": 33,
   "id": "ebc22605",
   "metadata": {},
   "outputs": [],
   "source": [
    "import numpy as np\n",
    "import tensorflow as tf\n",
    "from tensorflow.keras.preprocessing import image\n",
    "from tensorflow.keras.preprocessing.image import ImageDataGenerator\n"
   ]
  },
  {
   "cell_type": "code",
   "execution_count": 2,
   "id": "5f74f9d1",
   "metadata": {},
   "outputs": [],
   "source": [
    "class callBackTf(tf.keras.callbacks.Callback):\n",
    "    def __init__(self, accuracyPersent):\n",
    "        self.accuracyPersent = accuracyPersent\n",
    "    def on_epoch_end(self, epoch, logs=[]):\n",
    "        if (logs.get(\"accuracy\") > self.accuracyPersent):\n",
    "            print(\"\\n Reach 95% accuracy then stop training\")\n",
    "            self.model.stop_training=True"
   ]
  },
  {
   "cell_type": "code",
   "execution_count": 3,
   "id": "ba1d3782",
   "metadata": {},
   "outputs": [],
   "source": [
    "callBack = callBackTf(accuracyPersent=0.98)"
   ]
  },
  {
   "cell_type": "code",
   "execution_count": 13,
   "id": "c948183a",
   "metadata": {},
   "outputs": [],
   "source": [
    "train_dir = 'dataset/horse-or-human/training/'\n",
    "validation_dir = 'dataset/horse-or-human/validation/'"
   ]
  },
  {
   "cell_type": "code",
   "execution_count": 50,
   "id": "1e863e03",
   "metadata": {},
   "outputs": [],
   "source": [
    "train_datagen = ImageDataGenerator(\n",
    "    rescale=1/255,\n",
    "    rotation_range=40,\n",
    "    width_shift_range=0.2,\n",
    "    height_shift_range=0.2,\n",
    "    shear_range=0.2,\n",
    "    zoom_range=0.2,\n",
    "    horizontal_flip=True,\n",
    "    fill_mode='nearest'\n",
    ")"
   ]
  },
  {
   "cell_type": "code",
   "execution_count": 51,
   "id": "abcfbdde",
   "metadata": {},
   "outputs": [
    {
     "name": "stdout",
     "output_type": "stream",
     "text": [
      "Found 256 images belonging to 2 classes.\n",
      "Found 256 images belonging to 2 classes.\n"
     ]
    }
   ],
   "source": [
    "train_generator = train_datagen.flow_from_directory(\n",
    "    train_dir,\n",
    "    target_size=(300,300),\n",
    "    class_mode='binary'\n",
    ")\n",
    "validation_generator = train_datagen.flow_from_directory(\n",
    "    validation_dir,\n",
    "    target_size=(300,300),\n",
    "    class_mode='binary'\n",
    ")"
   ]
  },
  {
   "cell_type": "code",
   "execution_count": 52,
   "id": "7ea92e1e",
   "metadata": {},
   "outputs": [
    {
     "data": {
      "text/plain": [
       "'dataset/horse-or-human/training/'"
      ]
     },
     "execution_count": 52,
     "metadata": {},
     "output_type": "execute_result"
    }
   ],
   "source": [
    "train_generator.directory"
   ]
  },
  {
   "cell_type": "code",
   "execution_count": 53,
   "id": "9a8ab720",
   "metadata": {},
   "outputs": [],
   "source": [
    "def normal_model():\n",
    "    model = tf.keras.models.Sequential([\n",
    "        tf.keras.layers.Flatten(),\n",
    "        tf.keras.layers.Dense(128, activation=tf.nn.relu),\n",
    "        tf.keras.layers.Dense(10, activation=tf.nn.softmax)\n",
    "    ])\n",
    "    return model\n",
    "\n",
    "def CNN_model():\n",
    "    model = tf.keras.models.Sequential([\n",
    "        tf.keras.layers.Conv2D(16,(3,3), activation=tf.nn.relu, input_shape=(300, 300,3)),\n",
    "        tf.keras.layers.MaxPooling2D(2,2),\n",
    "        tf.keras.layers.Conv2D(64,(3,3), activation=tf.nn.relu),\n",
    "        tf.keras.layers.MaxPooling2D(2,2),\n",
    "        tf.keras.layers.Flatten(),\n",
    "        tf.keras.layers.Dense(128, activation=tf.nn.relu),\n",
    "        tf.keras.layers.Dense(10, activation=tf.nn.softmax)\n",
    "    ])\n",
    "    return model\n",
    "\n",
    "def CNN_model_hourse_human():\n",
    "    model = tf.keras.models.Sequential([\n",
    "        tf.keras.layers.Conv2D(16,(3,3), activation=tf.nn.relu, input_shape=(300, 300,3)),\n",
    "        tf.keras.layers.MaxPooling2D(2,2),\n",
    "        tf.keras.layers.Conv2D(32,(3,3), activation=tf.nn.relu),\n",
    "        tf.keras.layers.MaxPooling2D(2,2),\n",
    "        tf.keras.layers.Conv2D(64,(3,3), activation=tf.nn.relu),\n",
    "        tf.keras.layers.MaxPooling2D(2,2),\n",
    "        tf.keras.layers.Conv2D(64,(3,3), activation=tf.nn.relu),\n",
    "        tf.keras.layers.MaxPooling2D(2,2),\n",
    "        tf.keras.layers.Conv2D(64,(3,3), activation=tf.nn.relu),\n",
    "        tf.keras.layers.MaxPooling2D(2,2),\n",
    "        tf.keras.layers.Flatten(),\n",
    "        tf.keras.layers.Dense(512, activation=tf.nn.relu),\n",
    "        tf.keras.layers.Dense(1, activation=tf.nn.sigmoid)\n",
    "    ])\n",
    "    return model"
   ]
  },
  {
   "cell_type": "code",
   "execution_count": 54,
   "id": "fca9b329",
   "metadata": {},
   "outputs": [],
   "source": [
    "model = CNN_model_hourse_human()"
   ]
  },
  {
   "cell_type": "code",
   "execution_count": 55,
   "id": "f82ed5db",
   "metadata": {},
   "outputs": [],
   "source": [
    "model.compile(optimizer=tf.keras.optimizers.RMSprop(lr=0.001), loss='binary_crossentropy', metrics=['accuracy'])"
   ]
  },
  {
   "cell_type": "code",
   "execution_count": 56,
   "id": "6df8bc94",
   "metadata": {
    "scrolled": false
   },
   "outputs": [
    {
     "name": "stdout",
     "output_type": "stream",
     "text": [
      "Epoch 1/15\n",
      "8/8 [==============================] - 12s 1s/step - loss: 0.9496 - accuracy: 0.5156 - val_loss: 0.6971 - val_accuracy: 0.5000\n",
      "Epoch 2/15\n",
      "8/8 [==============================] - 10s 1s/step - loss: 0.8892 - accuracy: 0.5000 - val_loss: 0.6760 - val_accuracy: 0.4922\n",
      "Epoch 3/15\n",
      "8/8 [==============================] - 10s 1s/step - loss: 0.6514 - accuracy: 0.5469 - val_loss: 0.5722 - val_accuracy: 0.7617\n",
      "Epoch 4/15\n",
      "8/8 [==============================] - 10s 1s/step - loss: 0.6653 - accuracy: 0.7266 - val_loss: 0.4755 - val_accuracy: 0.8438\n",
      "Epoch 5/15\n",
      "8/8 [==============================] - 11s 1s/step - loss: 0.5683 - accuracy: 0.7461 - val_loss: 0.4879 - val_accuracy: 0.8164\n",
      "Epoch 6/15\n",
      "8/8 [==============================] - 10s 1s/step - loss: 0.5316 - accuracy: 0.8047 - val_loss: 0.5116 - val_accuracy: 0.8594\n",
      "Epoch 7/15\n",
      "8/8 [==============================] - 10s 1s/step - loss: 0.3888 - accuracy: 0.8828 - val_loss: 0.3386 - val_accuracy: 0.8359\n",
      "Epoch 8/15\n",
      "8/8 [==============================] - 10s 1s/step - loss: 0.5013 - accuracy: 0.8086 - val_loss: 0.4001 - val_accuracy: 0.9219\n",
      "Epoch 9/15\n",
      "8/8 [==============================] - 10s 1s/step - loss: 0.3123 - accuracy: 0.8906 - val_loss: 0.2701 - val_accuracy: 0.8672\n",
      "Epoch 10/15\n",
      "8/8 [==============================] - 10s 1s/step - loss: 0.3132 - accuracy: 0.8594 - val_loss: 0.3364 - val_accuracy: 0.8281\n",
      "Epoch 11/15\n",
      "8/8 [==============================] - 10s 1s/step - loss: 0.3879 - accuracy: 0.8711 - val_loss: 0.2521 - val_accuracy: 0.9062\n",
      "Epoch 12/15\n",
      "8/8 [==============================] - 10s 1s/step - loss: 0.2019 - accuracy: 0.9375 - val_loss: 0.7353 - val_accuracy: 0.7266\n",
      "Epoch 13/15\n",
      "8/8 [==============================] - 10s 1s/step - loss: 0.2014 - accuracy: 0.9141 - val_loss: 0.2081 - val_accuracy: 0.9180\n",
      "Epoch 14/15\n",
      "8/8 [==============================] - 10s 1s/step - loss: 0.6369 - accuracy: 0.8398 - val_loss: 0.1528 - val_accuracy: 0.9492\n",
      "Epoch 15/15\n",
      "8/8 [==============================] - 10s 1s/step - loss: 0.1196 - accuracy: 0.9609 - val_loss: 0.0940 - val_accuracy: 0.9727\n"
     ]
    },
    {
     "data": {
      "text/plain": [
       "<keras.callbacks.History at 0x2b6024240d0>"
      ]
     },
     "execution_count": 56,
     "metadata": {},
     "output_type": "execute_result"
    }
   ],
   "source": [
    "model.fit(train_generator, epochs=15, validation_data=validation_generator)"
   ]
  },
  {
   "cell_type": "code",
   "execution_count": 57,
   "id": "10da470e",
   "metadata": {},
   "outputs": [
    {
     "name": "stdout",
     "output_type": "stream",
     "text": [
      "Model: \"sequential_1\"\n",
      "_________________________________________________________________\n",
      " Layer (type)                Output Shape              Param #   \n",
      "=================================================================\n",
      " conv2d_5 (Conv2D)           (None, 298, 298, 16)      448       \n",
      "                                                                 \n",
      " max_pooling2d_5 (MaxPooling  (None, 149, 149, 16)     0         \n",
      " 2D)                                                             \n",
      "                                                                 \n",
      " conv2d_6 (Conv2D)           (None, 147, 147, 32)      4640      \n",
      "                                                                 \n",
      " max_pooling2d_6 (MaxPooling  (None, 73, 73, 32)       0         \n",
      " 2D)                                                             \n",
      "                                                                 \n",
      " conv2d_7 (Conv2D)           (None, 71, 71, 64)        18496     \n",
      "                                                                 \n",
      " max_pooling2d_7 (MaxPooling  (None, 35, 35, 64)       0         \n",
      " 2D)                                                             \n",
      "                                                                 \n",
      " conv2d_8 (Conv2D)           (None, 33, 33, 64)        36928     \n",
      "                                                                 \n",
      " max_pooling2d_8 (MaxPooling  (None, 16, 16, 64)       0         \n",
      " 2D)                                                             \n",
      "                                                                 \n",
      " conv2d_9 (Conv2D)           (None, 14, 14, 64)        36928     \n",
      "                                                                 \n",
      " max_pooling2d_9 (MaxPooling  (None, 7, 7, 64)         0         \n",
      " 2D)                                                             \n",
      "                                                                 \n",
      " flatten_1 (Flatten)         (None, 3136)              0         \n",
      "                                                                 \n",
      " dense_2 (Dense)             (None, 512)               1606144   \n",
      "                                                                 \n",
      " dense_3 (Dense)             (None, 1)                 513       \n",
      "                                                                 \n",
      "=================================================================\n",
      "Total params: 1,704,097\n",
      "Trainable params: 1,704,097\n",
      "Non-trainable params: 0\n",
      "_________________________________________________________________\n"
     ]
    }
   ],
   "source": [
    "model.summary()"
   ]
  },
  {
   "cell_type": "code",
   "execution_count": 58,
   "id": "ff1a4fe0",
   "metadata": {},
   "outputs": [],
   "source": [
    "path = 'playgoundData/chatchard.jpg'"
   ]
  },
  {
   "cell_type": "code",
   "execution_count": 59,
   "id": "b30710fb",
   "metadata": {},
   "outputs": [],
   "source": [
    "img = image.load_img(path, target_size=(300,300))\n",
    "x = image.img_to_array(img)\n",
    "x = np.expand_dims(x, axis=0)\n",
    "image_tensor = np.vstack([x])"
   ]
  },
  {
   "cell_type": "code",
   "execution_count": 60,
   "id": "94acec7d",
   "metadata": {},
   "outputs": [
    {
     "name": "stdout",
     "output_type": "stream",
     "text": [
      "1/1 [==============================] - 0s 80ms/step\n"
     ]
    }
   ],
   "source": [
    "classes = model.predict(image_tensor)"
   ]
  },
  {
   "cell_type": "code",
   "execution_count": 61,
   "id": "db326f1d",
   "metadata": {},
   "outputs": [
    {
     "name": "stdout",
     "output_type": "stream",
     "text": [
      "hrouse\n"
     ]
    }
   ],
   "source": [
    "if classes[0] > 0.5:\n",
    "    print(\"human\")\n",
    "else:\n",
    "    print(\"hrouse\")"
   ]
  },
  {
   "cell_type": "code",
   "execution_count": null,
   "id": "401880a6",
   "metadata": {},
   "outputs": [],
   "source": []
  }
 ],
 "metadata": {
  "kernelspec": {
   "display_name": "Python 3 (ipykernel)",
   "language": "python",
   "name": "python3"
  },
  "language_info": {
   "codemirror_mode": {
    "name": "ipython",
    "version": 3
   },
   "file_extension": ".py",
   "mimetype": "text/x-python",
   "name": "python",
   "nbconvert_exporter": "python",
   "pygments_lexer": "ipython3",
   "version": "3.9.12"
  }
 },
 "nbformat": 4,
 "nbformat_minor": 5
}
