{
 "cells": [
  {
   "cell_type": "markdown",
   "id": "e7fa65cb",
   "metadata": {},
   "source": [
    "## DOC\n",
    "https://towardsdatascience.com/convolutional-neural-networks-model-from-scratch-for-object-detection-820893610919\n",
    "https://www.techtarget.com/searchenterpriseai/definition/convolutional-neural-network"
   ]
  },
  {
   "cell_type": "code",
   "execution_count": 1,
   "id": "ebc22605",
   "metadata": {},
   "outputs": [],
   "source": [
    "import tensorflow as tf"
   ]
  },
  {
   "cell_type": "code",
   "execution_count": 2,
   "id": "5f74f9d1",
   "metadata": {},
   "outputs": [],
   "source": [
    "class callBackTf(tf.keras.callbacks.Callback):\n",
    "    def __init__(self, accuracyPersent):\n",
    "        self.accuracyPersent = accuracyPersent\n",
    "    def on_epoch_end(self, epoch, logs=[]):\n",
    "        if (logs.get(\"accuracy\") > self.accuracyPersent):\n",
    "            print(\"\\n Reach 95% accuracy then stop training\")\n",
    "            self.model.stop_training=True"
   ]
  },
  {
   "cell_type": "code",
   "execution_count": 3,
   "id": "ba1d3782",
   "metadata": {},
   "outputs": [],
   "source": [
    "callBack = callBackTf(accuracyPersent=0.98)"
   ]
  },
  {
   "cell_type": "code",
   "execution_count": 4,
   "id": "abcfbdde",
   "metadata": {},
   "outputs": [],
   "source": [
    "mint = tf.keras.datasets.fashion_mnist"
   ]
  },
  {
   "cell_type": "code",
   "execution_count": 5,
   "id": "2f1be697",
   "metadata": {},
   "outputs": [],
   "source": [
    "(training_images, training_labels), (test_images, test_labels) = mint.load_data()"
   ]
  },
  {
   "cell_type": "code",
   "execution_count": 6,
   "id": "e6865b7a",
   "metadata": {},
   "outputs": [
    {
     "data": {
      "text/plain": [
       "(60000, 28, 28)"
      ]
     },
     "execution_count": 6,
     "metadata": {},
     "output_type": "execute_result"
    }
   ],
   "source": [
    "training_images.shape"
   ]
  },
  {
   "cell_type": "code",
   "execution_count": 7,
   "id": "6f218005",
   "metadata": {},
   "outputs": [],
   "source": [
    "training_images = training_images.reshape(60000, 28, 28, 1)\n",
    "test_images = test_images.reshape(10000, 28, 28, 1)\n",
    "training_images = training_images/255\n",
    "test_images = test_images/255"
   ]
  },
  {
   "cell_type": "code",
   "execution_count": 8,
   "id": "9a8ab720",
   "metadata": {},
   "outputs": [],
   "source": [
    "def normal_model():\n",
    "    model = tf.keras.models.Sequential([\n",
    "        tf.keras.layers.Flatten(),\n",
    "        tf.keras.layers.Dense(128, activation=tf.nn.relu),\n",
    "        tf.keras.layers.Dense(10, activation=tf.nn.softmax)\n",
    "    ])\n",
    "    return model\n",
    "\n",
    "def CNN_model():\n",
    "    model = tf.keras.models.Sequential([\n",
    "        tf.keras.layers.Conv2D(64,(3,3), activation=tf.nn.relu, input_shape=(28, 28, 1)),\n",
    "        tf.keras.layers.MaxPooling2D(2,2),\n",
    "        tf.keras.layers.Conv2D(64,(3,3), activation=tf.nn.relu),\n",
    "        tf.keras.layers.MaxPooling2D(2,2),\n",
    "        tf.keras.layers.Flatten(),\n",
    "        tf.keras.layers.Dense(128, activation=tf.nn.relu),\n",
    "        tf.keras.layers.Dense(10, activation=tf.nn.softmax)\n",
    "    ])\n",
    "    return model"
   ]
  },
  {
   "cell_type": "code",
   "execution_count": 9,
   "id": "fca9b329",
   "metadata": {},
   "outputs": [],
   "source": [
    "model = CNN_model()"
   ]
  },
  {
   "cell_type": "code",
   "execution_count": 10,
   "id": "f82ed5db",
   "metadata": {},
   "outputs": [],
   "source": [
    "model.compile(optimizer='adam', loss='sparse_categorical_crossentropy', metrics=['accuracy'])"
   ]
  },
  {
   "cell_type": "code",
   "execution_count": 11,
   "id": "6df8bc94",
   "metadata": {
    "scrolled": false
   },
   "outputs": [
    {
     "name": "stdout",
     "output_type": "stream",
     "text": [
      "Epoch 1/25\n",
      "1875/1875 [==============================] - 26s 13ms/step - loss: 0.4435 - accuracy: 0.8390\n",
      "Epoch 2/25\n",
      "1875/1875 [==============================] - 24s 13ms/step - loss: 0.3000 - accuracy: 0.8903\n",
      "Epoch 3/25\n",
      "1875/1875 [==============================] - 24s 13ms/step - loss: 0.2508 - accuracy: 0.9078\n",
      "Epoch 4/25\n",
      "1875/1875 [==============================] - 25s 13ms/step - loss: 0.2189 - accuracy: 0.9189\n",
      "Epoch 5/25\n",
      "1875/1875 [==============================] - 25s 13ms/step - loss: 0.1904 - accuracy: 0.9291\n",
      "Epoch 6/25\n",
      "1875/1875 [==============================] - 25s 14ms/step - loss: 0.1652 - accuracy: 0.9374\n",
      "Epoch 7/25\n",
      "1875/1875 [==============================] - 27s 14ms/step - loss: 0.1458 - accuracy: 0.9449\n",
      "Epoch 8/25\n",
      "1875/1875 [==============================] - 27s 14ms/step - loss: 0.1292 - accuracy: 0.9509\n",
      "Epoch 9/25\n",
      "1875/1875 [==============================] - 27s 14ms/step - loss: 0.1118 - accuracy: 0.9578\n",
      "Epoch 10/25\n",
      "1875/1875 [==============================] - 27s 14ms/step - loss: 0.0997 - accuracy: 0.9624\n",
      "Epoch 11/25\n",
      "1875/1875 [==============================] - 25s 14ms/step - loss: 0.0877 - accuracy: 0.9668\n",
      "Epoch 12/25\n",
      "1875/1875 [==============================] - 27s 14ms/step - loss: 0.0767 - accuracy: 0.9710\n",
      "Epoch 13/25\n",
      "1875/1875 [==============================] - 26s 14ms/step - loss: 0.0694 - accuracy: 0.9743\n",
      "Epoch 14/25\n",
      "1875/1875 [==============================] - 25s 13ms/step - loss: 0.0642 - accuracy: 0.9754\n",
      "Epoch 15/25\n",
      "1875/1875 [==============================] - 25s 13ms/step - loss: 0.0562 - accuracy: 0.9788\n",
      "Epoch 16/25\n",
      "1873/1875 [============================>.] - ETA: 0s - loss: 0.0511 - accuracy: 0.9802\n",
      " Reach 95% accuracy then stop training\n",
      "1875/1875 [==============================] - 25s 13ms/step - loss: 0.0511 - accuracy: 0.9802\n"
     ]
    },
    {
     "data": {
      "text/plain": [
       "<keras.callbacks.History at 0x1472e1c7b50>"
      ]
     },
     "execution_count": 11,
     "metadata": {},
     "output_type": "execute_result"
    }
   ],
   "source": [
    "model.fit(training_images, training_labels, epochs=25, callbacks=[callBack])"
   ]
  },
  {
   "cell_type": "code",
   "execution_count": 12,
   "id": "10da470e",
   "metadata": {},
   "outputs": [
    {
     "name": "stdout",
     "output_type": "stream",
     "text": [
      "313/313 [==============================] - 2s 4ms/step - loss: 0.4219 - accuracy: 0.9074\n"
     ]
    },
    {
     "data": {
      "text/plain": [
       "[0.4219059944152832, 0.9074000120162964]"
      ]
     },
     "execution_count": 12,
     "metadata": {},
     "output_type": "execute_result"
    }
   ],
   "source": [
    "model.evaluate(test_images, test_labels)"
   ]
  },
  {
   "cell_type": "code",
   "execution_count": 13,
   "id": "2764dbcb",
   "metadata": {},
   "outputs": [
    {
     "name": "stdout",
     "output_type": "stream",
     "text": [
      "313/313 [==============================] - 1s 4ms/step\n"
     ]
    }
   ],
   "source": [
    "classification = model.predict(test_images)"
   ]
  },
  {
   "cell_type": "code",
   "execution_count": 14,
   "id": "25dd6ec7",
   "metadata": {},
   "outputs": [
    {
     "data": {
      "text/plain": [
       "(10000, 10)"
      ]
     },
     "execution_count": 14,
     "metadata": {},
     "output_type": "execute_result"
    }
   ],
   "source": [
    "classification.shape"
   ]
  },
  {
   "cell_type": "code",
   "execution_count": 15,
   "id": "e5a68e85",
   "metadata": {},
   "outputs": [
    {
     "name": "stdout",
     "output_type": "stream",
     "text": [
      "[8.1214718e-18 1.5228907e-19 1.1756838e-15 4.0421381e-16 1.5773138e-14\n",
      " 3.5546593e-11 3.0314732e-19 6.3474129e-11 2.9328139e-22 1.0000000e+00]\n",
      "9\n"
     ]
    }
   ],
   "source": [
    "print(classification[0])\n",
    "print(test_labels[0])"
   ]
  },
  {
   "cell_type": "code",
   "execution_count": 17,
   "id": "da9fcce9",
   "metadata": {},
   "outputs": [
    {
     "name": "stdout",
     "output_type": "stream",
     "text": [
      "Model: \"sequential\"\n",
      "_________________________________________________________________\n",
      " Layer (type)                Output Shape              Param #   \n",
      "=================================================================\n",
      " conv2d (Conv2D)             (None, 26, 26, 64)        640       \n",
      "                                                                 \n",
      " max_pooling2d (MaxPooling2D  (None, 13, 13, 64)       0         \n",
      " )                                                               \n",
      "                                                                 \n",
      " conv2d_1 (Conv2D)           (None, 11, 11, 64)        36928     \n",
      "                                                                 \n",
      " max_pooling2d_1 (MaxPooling  (None, 5, 5, 64)         0         \n",
      " 2D)                                                             \n",
      "                                                                 \n",
      " flatten (Flatten)           (None, 1600)              0         \n",
      "                                                                 \n",
      " dense (Dense)               (None, 128)               204928    \n",
      "                                                                 \n",
      " dense_1 (Dense)             (None, 10)                1290      \n",
      "                                                                 \n",
      "=================================================================\n",
      "Total params: 243,786\n",
      "Trainable params: 243,786\n",
      "Non-trainable params: 0\n",
      "_________________________________________________________________\n"
     ]
    }
   ],
   "source": [
    "model.summary()"
   ]
  },
  {
   "cell_type": "code",
   "execution_count": null,
   "id": "b30710fb",
   "metadata": {},
   "outputs": [],
   "source": []
  }
 ],
 "metadata": {
  "kernelspec": {
   "display_name": "Python 3 (ipykernel)",
   "language": "python",
   "name": "python3"
  },
  "language_info": {
   "codemirror_mode": {
    "name": "ipython",
    "version": 3
   },
   "file_extension": ".py",
   "mimetype": "text/x-python",
   "name": "python",
   "nbconvert_exporter": "python",
   "pygments_lexer": "ipython3",
   "version": "3.9.12"
  }
 },
 "nbformat": 4,
 "nbformat_minor": 5
}
