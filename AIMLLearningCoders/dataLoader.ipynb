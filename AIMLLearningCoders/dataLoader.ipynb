{
 "cells": [
  {
   "cell_type": "code",
   "execution_count": 25,
   "id": "bde85fe4",
   "metadata": {},
   "outputs": [],
   "source": [
    "import urllib.request\n",
    "import zipfile\n",
    "from tensorflow.keras.preprocessing.image import ImageDataGenerator"
   ]
  },
  {
   "cell_type": "code",
   "execution_count": 16,
   "id": "54d66b4b",
   "metadata": {},
   "outputs": [],
   "source": [
    "def dowloadDataSet(url ,datasetDir , file_name, training_dir):\n",
    "    filename = datasetDir + \"/\" + file_name\n",
    "    training_dir = datasetDir + \"/\" + training_dir\n",
    "    urllib.request.urlretrieve(url,filename)\n",
    "    zip_ref = zipfile.ZipFile(filename, 'r')\n",
    "    zip_ref.extractall(training_dir)\n",
    "    zip_ref.close()"
   ]
  },
  {
   "cell_type": "code",
   "execution_count": 22,
   "id": "513a5821",
   "metadata": {},
   "outputs": [],
   "source": [
    "#url = \"https://storage.googleapis.com/laurencemoroney-blog.appspot.com/horse-or-human.zip\"\n",
    "url = \"https://storage.googleapis.com/laurencemoroney-blog.appspot.com/validation-horse-or-human.zip\""
   ]
  },
  {
   "cell_type": "code",
   "execution_count": 23,
   "id": "12d33a62",
   "metadata": {},
   "outputs": [],
   "source": [
    "datasetDir = \"dataset\"\n",
    "file_name = \"validation-horse-or-human.zip\"\n",
    "training_dir = \"horse-or-human/validation\""
   ]
  },
  {
   "cell_type": "code",
   "execution_count": 24,
   "id": "d0e37f56",
   "metadata": {},
   "outputs": [],
   "source": [
    "dowloadDataSet(url, datasetDir, file_name, training_dir)"
   ]
  },
  {
   "cell_type": "code",
   "execution_count": 28,
   "id": "eae239a6",
   "metadata": {},
   "outputs": [
    {
     "name": "stdout",
     "output_type": "stream",
     "text": [
      "Found 256 images belonging to 2 classes.\n"
     ]
    }
   ],
   "source": [
    "# ADD lable to image decide by dir name\n",
    "train_datagen = ImageDataGenerator(rescale=1/255)\n",
    "train_generator = train_datagen.flow_from_directory(\n",
    "    datasetDir + \"/\" + training_dir,\n",
    "    target_size=(300,300),\n",
    "    class_mode='binary'\n",
    ")"
   ]
  },
  {
   "cell_type": "code",
   "execution_count": null,
   "id": "62b5b915",
   "metadata": {},
   "outputs": [],
   "source": []
  }
 ],
 "metadata": {
  "kernelspec": {
   "display_name": "Python 3 (ipykernel)",
   "language": "python",
   "name": "python3"
  },
  "language_info": {
   "codemirror_mode": {
    "name": "ipython",
    "version": 3
   },
   "file_extension": ".py",
   "mimetype": "text/x-python",
   "name": "python",
   "nbconvert_exporter": "python",
   "pygments_lexer": "ipython3",
   "version": "3.9.12"
  }
 },
 "nbformat": 4,
 "nbformat_minor": 5
}
