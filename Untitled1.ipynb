{
 "cells": [
  {
   "cell_type": "code",
   "execution_count": 7,
   "id": "ca979358",
   "metadata": {},
   "outputs": [
    {
     "name": "stderr",
     "output_type": "stream",
     "text": [
      "[nltk_data] Downloading package punkt to\n",
      "[nltk_data]     C:\\Users\\tongn\\AppData\\Roaming\\nltk_data...\n",
      "[nltk_data]   Package punkt is already up-to-date!\n"
     ]
    }
   ],
   "source": [
    "import nltk\n",
    "nltk.download('punkt')\n",
    "from nltk import sent_tokenize\n",
    "from nltk import word_tokenize\n",
    "from nltk import TweetTokenizer"
   ]
  },
  {
   "cell_type": "code",
   "execution_count": 8,
   "id": "b46b3c41",
   "metadata": {},
   "outputs": [
    {
     "data": {
      "text/plain": [
       "['AI the is fast growing platform.', 'It mimic human brain.']"
      ]
     },
     "execution_count": 8,
     "metadata": {},
     "output_type": "execute_result"
    }
   ],
   "source": [
    "sent_tokenize('''AI the is fast growing platform.  It mimic human brain.''')"
   ]
  },
  {
   "cell_type": "code",
   "execution_count": 9,
   "id": "b8f597ad",
   "metadata": {},
   "outputs": [
    {
     "data": {
      "text/plain": [
       "['I', 'love', 'Artifical', 'Intelligence']"
      ]
     },
     "execution_count": 9,
     "metadata": {},
     "output_type": "execute_result"
    }
   ],
   "source": [
    "word_tokenize('I love Artifical Intelligence')"
   ]
  },
  {
   "cell_type": "code",
   "execution_count": 17,
   "id": "93358093",
   "metadata": {},
   "outputs": [
    {
     "ename": "SyntaxError",
     "evalue": "EOL while scanning string literal (2659162102.py, line 2)",
     "output_type": "error",
     "traceback": [
      "\u001b[1;36m  Input \u001b[1;32mIn [17]\u001b[1;36m\u001b[0m\n\u001b[1;33m    twitter_tknzr.tokenize(\"@switchfoot http://twitpic.com/2y1zl - Awww, that's a bummer. ;D\\\")\u001b[0m\n\u001b[1;37m                                                                                               ^\u001b[0m\n\u001b[1;31mSyntaxError\u001b[0m\u001b[1;31m:\u001b[0m EOL while scanning string literal\n"
     ]
    }
   ],
   "source": [
    "twitter_tknzr = TweetTokenizer()\n",
    "twitter_tknzr.tokenize(\"@switchfoot http://twitpic.com/2y1zl - Awww, that's a bummer. ;D\\\")"
   ]
  },
  {
   "cell_type": "code",
   "execution_count": null,
   "id": "3eb1e9c7",
   "metadata": {},
   "outputs": [],
   "source": []
  }
 ],
 "metadata": {
  "kernelspec": {
   "display_name": "Python 3 (ipykernel)",
   "language": "python",
   "name": "python3"
  },
  "language_info": {
   "codemirror_mode": {
    "name": "ipython",
    "version": 3
   },
   "file_extension": ".py",
   "mimetype": "text/x-python",
   "name": "python",
   "nbconvert_exporter": "python",
   "pygments_lexer": "ipython3",
   "version": "3.9.12"
  }
 },
 "nbformat": 4,
 "nbformat_minor": 5
}
