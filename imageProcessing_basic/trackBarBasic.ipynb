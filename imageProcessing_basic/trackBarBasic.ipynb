{
 "cells": [
  {
   "cell_type": "code",
   "execution_count": 9,
   "id": "bf82c5cb",
   "metadata": {},
   "outputs": [],
   "source": [
    "import cv2\n",
    "import numpy as np"
   ]
  },
  {
   "cell_type": "code",
   "execution_count": 18,
   "id": "e8124f60",
   "metadata": {},
   "outputs": [
    {
     "name": "stdout",
     "output_type": "stream",
     "text": [
      "200\n",
      "250\n",
      "3\n"
     ]
    }
   ],
   "source": [
    "img = np.zeros((200,250,3), np.uint8)\n",
    "print(len(img))\n",
    "print(len(img[0]))\n",
    "print(len(img[0][0]))\n"
   ]
  },
  {
   "cell_type": "code",
   "execution_count": null,
   "id": "02ce7956",
   "metadata": {},
   "outputs": [],
   "source": [
    "cv2.namedWindow(\"Color Trackbar\")"
   ]
  },
  {
   "cell_type": "code",
   "execution_count": 11,
   "id": "0bb33847",
   "metadata": {},
   "outputs": [],
   "source": [
    "def display(value):\n",
    "    pass"
   ]
  },
  {
   "cell_type": "code",
   "execution_count": 12,
   "id": "7c78d203",
   "metadata": {},
   "outputs": [],
   "source": [
    "#เริม่ต้มสรา้ง trackbar\n",
    "cv2.createTrackbar(\"B\", \"Color Trackbar\", 0, 255, display)\n",
    "cv2.createTrackbar(\"G\", \"Color Trackbar\", 0, 255, display)\n",
    "cv2.createTrackbar(\"R\", \"Color Trackbar\", 0, 255, display)"
   ]
  },
  {
   "cell_type": "code",
   "execution_count": 13,
   "id": "8d9680d5",
   "metadata": {},
   "outputs": [],
   "source": [
    "while True:\n",
    "    cv2.imshow(\"Color Trackbar\", img)\n",
    "    \n",
    "    if (cv2.waitKey(1) & 0xFF == ord(\"e\")):\n",
    "        break\n",
    "    #ดึงค่าจาก Trackber\n",
    "    blue = cv2.getTrackbarPos(\"B\", \"Color Trackbar\")\n",
    "    green = cv2.getTrackbarPos(\"G\", \"Color Trackbar\")\n",
    "    red = cv2.getTrackbarPos(\"R\", \"Color Trackbar\")\n",
    "    \n",
    "    img[:] = [blue, green, red]"
   ]
  },
  {
   "cell_type": "code",
   "execution_count": 14,
   "id": "b0aba806",
   "metadata": {},
   "outputs": [],
   "source": [
    "\n",
    "cv2.destroyAllWindows()"
   ]
  },
  {
   "cell_type": "code",
   "execution_count": null,
   "id": "1e8618f4",
   "metadata": {},
   "outputs": [],
   "source": []
  }
 ],
 "metadata": {
  "kernelspec": {
   "display_name": "Python 3 (ipykernel)",
   "language": "python",
   "name": "python3"
  },
  "language_info": {
   "codemirror_mode": {
    "name": "ipython",
    "version": 3
   },
   "file_extension": ".py",
   "mimetype": "text/x-python",
   "name": "python",
   "nbconvert_exporter": "python",
   "pygments_lexer": "ipython3",
   "version": "3.9.12"
  }
 },
 "nbformat": 4,
 "nbformat_minor": 5
}
