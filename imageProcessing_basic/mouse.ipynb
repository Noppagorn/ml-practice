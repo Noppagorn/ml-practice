{
 "cells": [
  {
   "cell_type": "code",
   "execution_count": 7,
   "id": "f7f7720a",
   "metadata": {},
   "outputs": [],
   "source": [
    "import cv2\n",
    "import numpy as np"
   ]
  },
  {
   "cell_type": "code",
   "execution_count": 11,
   "id": "5526ac61",
   "metadata": {},
   "outputs": [],
   "source": [
    "while True:\n",
    "    img = cv2.imread(\"image/ball2d.jpg\")\n",
    "    img = cv2.resize(img, (400, 400))\n",
    "    \n",
    "    # rang of color, use BGR\n",
    "    lower = np.array([5,111,10])\n",
    "    upper = np.array([124,255,133])\n",
    "    \n",
    "    mask = cv2.inRange(img,lower, upper)\n",
    "    result = cv2.bitwise_and(img,img, mask=mask)\n",
    "    if cv2.waitKey(0) & 0xFF == ord(\"e\"):\n",
    "        break\n",
    "    cv2.imshow('original',img)\n",
    "    cv2.imshow('Mask', mask)\n",
    "    cv2.imshow('result', result)\n",
    "\n",
    "cv2.destroyAllWindows()"
   ]
  },
  {
   "cell_type": "raw",
   "id": "0db8b4f1",
   "metadata": {},
   "source": []
  }
 ],
 "metadata": {
  "kernelspec": {
   "display_name": "Python 3 (ipykernel)",
   "language": "python",
   "name": "python3"
  },
  "language_info": {
   "codemirror_mode": {
    "name": "ipython",
    "version": 3
   },
   "file_extension": ".py",
   "mimetype": "text/x-python",
   "name": "python",
   "nbconvert_exporter": "python",
   "pygments_lexer": "ipython3",
   "version": "3.9.12"
  }
 },
 "nbformat": 4,
 "nbformat_minor": 5
}
