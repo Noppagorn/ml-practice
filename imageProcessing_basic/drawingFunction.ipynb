{
 "cells": [
  {
   "cell_type": "code",
   "execution_count": 7,
   "id": "9a3ec519",
   "metadata": {},
   "outputs": [
    {
     "data": {
      "text/plain": [
       "'\\nhttps://www.youtube.com/watch?v=fLDJJXEykvo\\n'"
      ]
     },
     "execution_count": 7,
     "metadata": {},
     "output_type": "execute_result"
    }
   ],
   "source": [
    "\"\"\"\n",
    "https://www.youtube.com/watch?v=fLDJJXEykvo\n",
    "\"\"\""
   ]
  },
  {
   "cell_type": "code",
   "execution_count": 3,
   "id": "5b83726c",
   "metadata": {},
   "outputs": [],
   "source": [
    "import cv2"
   ]
  },
  {
   "cell_type": "code",
   "execution_count": 4,
   "id": "d6777a6b",
   "metadata": {},
   "outputs": [
    {
     "name": "stdout",
     "output_type": "stream",
     "text": [
      "4.6.0\n"
     ]
    }
   ],
   "source": [
    "print(cv2.__version__)"
   ]
  },
  {
   "cell_type": "markdown",
   "id": "3b1ca890",
   "metadata": {},
   "source": [
    "Line (image, start point(x,y), end point(x,y) , color(BGR), t้hickness)\n",
    "\\\n",
    "Put Text (imge, text, poit of text(x,y), font, size of text, color, thickness)"
   ]
  },
  {
   "cell_type": "code",
   "execution_count": 28,
   "id": "2b765f56",
   "metadata": {},
   "outputs": [],
   "source": [
    "img = cv2.imread(\"elephant.jpg\", cv2.IMREAD_UNCHANGED)\n",
    "imp = cv2.arrowedLine(img,(0,0), (255,255), (0,100, 255), 5)\n",
    "imp = cv2.rectangle(img, (384,0), (510,128), (0,0,255), 5)\n",
    "imp = cv2.circle(img, (447,63), 60, (255,0,0), -1)\n",
    "imp = cv2.putText(img, \"OpenCV\", (10, 100), cv2.FONT_HERSHEY_SIMPLEX, 1, (255,255,255), 8)"
   ]
  },
  {
   "cell_type": "code",
   "execution_count": 29,
   "id": "c4d1e0ba",
   "metadata": {},
   "outputs": [
    {
     "data": {
      "text/plain": [
       "True"
      ]
     },
     "execution_count": 29,
     "metadata": {},
     "output_type": "execute_result"
    }
   ],
   "source": [
    "cv2.imshow(\"Show Result\",img)\n",
    "cv2.waitKey(0)\n",
    "cv2.destroyAllWindows()\n",
    "cv2.imwrite(\"result.png\",img)"
   ]
  },
  {
   "cell_type": "code",
   "execution_count": null,
   "id": "f5e98609",
   "metadata": {},
   "outputs": [],
   "source": []
  },
  {
   "cell_type": "code",
   "execution_count": null,
   "id": "6228bb77",
   "metadata": {},
   "outputs": [],
   "source": []
  }
 ],
 "metadata": {
  "kernelspec": {
   "display_name": "Python 3 (ipykernel)",
   "language": "python",
   "name": "python3"
  },
  "language_info": {
   "codemirror_mode": {
    "name": "ipython",
    "version": 3
   },
   "file_extension": ".py",
   "mimetype": "text/x-python",
   "name": "python",
   "nbconvert_exporter": "python",
   "pygments_lexer": "ipython3",
   "version": "3.9.12"
  }
 },
 "nbformat": 4,
 "nbformat_minor": 5
}
