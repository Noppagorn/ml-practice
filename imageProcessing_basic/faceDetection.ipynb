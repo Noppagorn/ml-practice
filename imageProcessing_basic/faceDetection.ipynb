{
 "cells": [
  {
   "cell_type": "code",
   "execution_count": 32,
   "id": "52ea3a08",
   "metadata": {},
   "outputs": [],
   "source": [
    "import cv2"
   ]
  },
  {
   "cell_type": "code",
   "execution_count": 33,
   "id": "be1721ad",
   "metadata": {},
   "outputs": [],
   "source": [
    "img = cv2.imread(\"image/boy.jpg\")"
   ]
  },
  {
   "cell_type": "code",
   "execution_count": 34,
   "id": "b9e0f271",
   "metadata": {},
   "outputs": [],
   "source": [
    "#อ่านไฟลื xml classification\n",
    "face_cascade = cv2.CascadeClassifier('Detect/haarcascade_frontalface_default.xml')"
   ]
  },
  {
   "cell_type": "code",
   "execution_count": 35,
   "id": "121b49cf",
   "metadata": {},
   "outputs": [],
   "source": [
    "gray_img = cv2.cvtColor(img, cv2.COLOR_BGR2GRAY)"
   ]
  },
  {
   "cell_type": "code",
   "execution_count": 36,
   "id": "2898f0b9",
   "metadata": {},
   "outputs": [],
   "source": [
    "scaleFactor = 1.2 #default 1.1\n",
    "minNeighbor = 3 #default 3 # เพื่อนบ้านที่ใกล้ที่สุด\n",
    "face_detect = face_cascade.detectMultiScale(gray_img, scaleFactor, minNeighbor)"
   ]
  },
  {
   "cell_type": "code",
   "execution_count": 37,
   "id": "8c065fa8",
   "metadata": {},
   "outputs": [],
   "source": [
    "# show point of the face \n",
    "for (x,y,w,h) in face_detect:\n",
    "    cv2.rectangle(img, (x, y), (x + w, y + h), (0, 255, 0), thickness=5)"
   ]
  },
  {
   "cell_type": "code",
   "execution_count": 38,
   "id": "fd9b86e9",
   "metadata": {},
   "outputs": [],
   "source": [
    "cv2.imshow(\"Original\", img)\n",
    "cv2.imshow(\"Result\", gray_img)\n",
    "cv2.waitKey(0)\n",
    "cv2.destroyAllWindows()"
   ]
  },
  {
   "cell_type": "code",
   "execution_count": null,
   "id": "c99e65a0",
   "metadata": {},
   "outputs": [],
   "source": []
  }
 ],
 "metadata": {
  "kernelspec": {
   "display_name": "Python 3 (ipykernel)",
   "language": "python",
   "name": "python3"
  },
  "language_info": {
   "codemirror_mode": {
    "name": "ipython",
    "version": 3
   },
   "file_extension": ".py",
   "mimetype": "text/x-python",
   "name": "python",
   "nbconvert_exporter": "python",
   "pygments_lexer": "ipython3",
   "version": "3.9.12"
  }
 },
 "nbformat": 4,
 "nbformat_minor": 5
}
